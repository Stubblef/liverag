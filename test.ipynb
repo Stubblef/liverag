{
 "cells": [
  {
   "cell_type": "code",
   "execution_count": 1,
   "metadata": {},
   "outputs": [],
   "source": [
    "import os"
   ]
  },
  {
   "cell_type": "code",
   "execution_count": 4,
   "metadata": {},
   "outputs": [
    {
     "name": "stderr",
     "output_type": "stream",
     "text": [
      "/data2/liverag/.venv/lib/python3.10/site-packages/tqdm/auto.py:21: TqdmWarning: IProgress not found. Please update jupyter and ipywidgets. See https://ipywidgets.readthedocs.io/en/stable/user_install.html\n",
      "  from .autonotebook import tqdm as notebook_tqdm\n"
     ]
    }
   ],
   "source": [
    "from chonkie import SemanticChunker\n",
    "\n",
    "# Basic initialization with default parameters\n",
    "chunker = SemanticChunker(\n",
    "    embedding_model=\"minishlab/potion-base-8M\",  # Default model\n",
    "    mode=\"window\",                               # Mode for grouping sentences, either \"cumulative\" or \"window\"\n",
    "    threshold=\"auto\",                            # Similarity threshold (0-1) or (1-100) or \"auto\"\n",
    "    chunk_size=512,                              # Maximum tokens per chunk\n",
    "    similarity_window=1,                         # Number of sentences to consider while windowing for similarity\n",
    "    min_sentences=1,                              # Minimum number of sentences per chunk\n",
    "    min_characters_per_sentence=12,              # Minimum number of characters per sentence\n",
    "    min_chunk_size=2,                            # Minimum tokens per chunk\n",
    "    threshold_step=0.01,                         # Step size for similarity threshold calculation\n",
    "    delim=['.', '!', '?', '\\n'],                  # Delimiters to split sentences on\n",
    "    return_type=\"chunks\"                         # Return type, either \"chunks\" or \"texts\"\n",
    ")"
   ]
  },
  {
   "cell_type": "code",
   "execution_count": null,
   "metadata": {},
   "outputs": [],
   "source": []
  }
 ],
 "metadata": {
  "kernelspec": {
   "display_name": ".venv",
   "language": "python",
   "name": "python3"
  },
  "language_info": {
   "codemirror_mode": {
    "name": "ipython",
    "version": 3
   },
   "file_extension": ".py",
   "mimetype": "text/x-python",
   "name": "python",
   "nbconvert_exporter": "python",
   "pygments_lexer": "ipython3",
   "version": "3.10.9"
  }
 },
 "nbformat": 4,
 "nbformat_minor": 2
}
